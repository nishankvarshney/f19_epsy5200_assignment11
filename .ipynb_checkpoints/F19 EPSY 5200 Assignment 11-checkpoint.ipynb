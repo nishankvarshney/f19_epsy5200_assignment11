{
 "cells": [
  {
   "cell_type": "markdown",
   "metadata": {},
   "source": [
    "# EPSY 5200: Programming for Social Science Researchers\n",
    "## Assignment 11\n",
    "### Due Wednesday, November 20, 2019 by 2:30pm"
   ]
  },
  {
   "cell_type": "markdown",
   "metadata": {},
   "source": [
    "#### Problem 1\n",
    "\n",
    "a) Fork this GitHub respoitory to your own account, then clone to your hard drive with GitKraken.  After finishing EACH problem below, make sure to STAGE and COMMIT with a comment.  Then PUSH back to GitHub.\n",
    "\n",
    "b) Load helpful libraries in this Jupyter Notebook.\n",
    "\n",
    "c) Import the *MA_Public_Schools_2017.csv* file as a pandas data frame.  Note: these data are from Kaggle: https://www.kaggle.com/ndalziel/massachusetts-public-schools-data and I have already removed a lot of columns.\n",
    "\n",
    "d) *NEW* Adapt the example code in the chunk below to replace all spaces in column names with underscores. This is good practice in order to not cause problems with functions that don't allow spaces in variable names (e.g., **smf.ols**).\n",
    "\n",
    "e) *NEW* Adapt the code from 1d to replace \"%\" sign with \"Perc\", because it is also good practice not to start column names with symbols.\n",
    "\n",
    "f) Find the descriptives for numeric columns."
   ]
  },
  {
   "cell_type": "code",
   "execution_count": 1,
   "metadata": {},
   "outputs": [],
   "source": [
    "# Problem 1 code here (can split into multiple code chunks if you want)\n",
    "\n",
    "# starter code for 1d -- replace school_data w/ your dataframe name\n",
    "# school_data.columns = school_data.columns.str.replace(' ', '_')\n",
    "\n",
    "import pandas as pd\n",
    "import seaborn as sns\n",
    "import matplotlib.pyplot as plt\n",
    "import scipy.stats as stats\n",
    "import statsmodels.formula.api as smf"
   ]
  },
  {
   "cell_type": "markdown",
   "metadata": {},
   "source": [
    "#### Problem 2\n",
    "\n",
    "a) Remove the District Code column.\n",
    "\n",
    "b) Create a new column called \"TOTAL_Enrollment\" that is the sum of all columns that end in \"Enrollment\".\n",
    "\n",
    "c) Compute the mean of \"TOTAL_Enrollment\" for each District. (Hint: groupby)"
   ]
  },
  {
   "cell_type": "code",
   "execution_count": null,
   "metadata": {},
   "outputs": [],
   "source": [
    "# Problem 2 code here (can split into multiple code chunks if you want)"
   ]
  },
  {
   "cell_type": "markdown",
   "metadata": {},
   "source": [
    "#### Problem 3\n",
    "\n",
    "a) Visualize the bivariate relationships among Average_Class_Size, Average_Salary, Perc_Economically_Disadvantaged, and Perc_English_Language_Learner.  Use the Seaborn function **pairplot**.\n",
    "\n",
    "b) Describe what you see from the plots.\n",
    "\n",
    "c) Based on your observations from 3b, and as a completely post-hoc, exploratory analysis, choose one of the 4 measures from 3a to be an outcome variable, and a second measure to be a predictor variable.  Then run a linear regression, print the summary, and write a couple sentences interpreting the results."
   ]
  },
  {
   "cell_type": "code",
   "execution_count": null,
   "metadata": {},
   "outputs": [],
   "source": [
    "# Problem 3 code here (can split into multiple code chunks if you want)"
   ]
  },
  {
   "cell_type": "markdown",
   "metadata": {},
   "source": [
    "#### Problem 4\n",
    "\n",
    "a) Create a new linear regression model that takes the model from 3c and adds both of the remaining variables from 3a as additional predictor variables, print the summary, and write a couple sentences interpreting the results, especially comparing it to Problem 3c.  \n",
    "\n",
    "b) Add School_Type as another predictor to your model.  Interpret the new predictor in your output.  How is it different from the other predictors?"
   ]
  },
  {
   "cell_type": "code",
   "execution_count": null,
   "metadata": {},
   "outputs": [],
   "source": [
    "# Problem 4 code here (can split into multiple code chunks if you want)"
   ]
  },
  {
   "cell_type": "markdown",
   "metadata": {},
   "source": [
    "#### Problem 5\n",
    "\n",
    "a) Adapt your **pairplot** code from 3a to add the following argument:\n",
    "`hue=\"School_Type\"`\n",
    "\n",
    "b) Describe what changes in the pairplots, and what it represents."
   ]
  },
  {
   "cell_type": "code",
   "execution_count": null,
   "metadata": {},
   "outputs": [],
   "source": [
    "# Problem 5 code here (can split into multiple code chunks if you want)"
   ]
  },
  {
   "cell_type": "markdown",
   "metadata": {},
   "source": [
    "#### Problem 6\n",
    "\n",
    "a) Save this Jupyter notebook as an HTML file (File > Download As > HTML) into your local repository (this folder).\n",
    "\n",
    "b) Stage, commit, and push all changes to your GitHub repository.\n",
    "\n",
    "c) Submit a link to your repository as your submission for the assignment on Canvas."
   ]
  }
 ],
 "metadata": {
  "kernelspec": {
   "display_name": "Python 3",
   "language": "python",
   "name": "python3"
  },
  "language_info": {
   "codemirror_mode": {
    "name": "ipython",
    "version": 3
   },
   "file_extension": ".py",
   "mimetype": "text/x-python",
   "name": "python",
   "nbconvert_exporter": "python",
   "pygments_lexer": "ipython3",
   "version": "3.7.4"
  }
 },
 "nbformat": 4,
 "nbformat_minor": 2
}
